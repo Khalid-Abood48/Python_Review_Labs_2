{
 "cells": [
  {
   "cell_type": "code",
   "execution_count": 2,
   "metadata": {},
   "outputs": [
    {
     "name": "stdout",
     "output_type": "stream",
     "text": [
      "The item cost is: 1000.0\n",
      "The total cost is: 1000.0\n",
      "The item cost is: 1000.0\n",
      "The total cost is: 2000.0\n",
      "The item cost is: 1200000.0\n",
      "The total cost is: 1202000.0\n",
      "The item cost is: 1500.0\n",
      "The total cost is: 1203500.0\n",
      "Invalid input, please enter a number.\n"
     ]
    }
   ],
   "source": [
    "#Python_Review_P#4_Labs_Bouns\n",
    "\n",
    "\n",
    "while True:\n",
    "    try:\n",
    "        name = input(\"Enter your name: \")\n",
    "        age = int(input(\"Enter your age: \"))\n",
    "\n",
    "        if 0 <= age <= 6:\n",
    "            print(\"Kid\")\n",
    "        elif age < 0:\n",
    "            print(\"Wrong age value, you can not enter value 0 or less.\")\n",
    "        else:\n",
    "            total_cost = 0\n",
    "            num_items = int(input(\"Enter the number of items that you want to buy: \"))\n",
    "            for i in range(num_items):\n",
    "                item_name = input(\"Enter the item name: \")\n",
    "                item_price = float(input(\"Enter the item price: \"))\n",
    "                item_quantity = int(input(\"Enter the item quantity: \"))\n",
    "                item_cost = item_price * item_quantity\n",
    "                total_cost += item_cost\n",
    "                print(f\"The item cost is: {item_cost}\")\n",
    "                print(f\"The total cost is: {total_cost}\")\n",
    "            if total_cost > 200:\n",
    "                total_cost *= 0.8\n",
    "                print(f\"The total cost after discount is: {total_cost}\")\n",
    "    except ValueError:\n",
    "        print(\"Invalid input, please enter a number.\")\n",
    "    repeat = input(\"Do you want to repeat the same process? (yes/no): \")\n",
    "    if repeat.lower()!= \"yes\":\n",
    "        break"
   ]
  }
 ],
 "metadata": {
  "kernelspec": {
   "display_name": "Python 3",
   "language": "python",
   "name": "python3"
  },
  "language_info": {
   "codemirror_mode": {
    "name": "ipython",
    "version": 3
   },
   "file_extension": ".py",
   "mimetype": "text/x-python",
   "name": "python",
   "nbconvert_exporter": "python",
   "pygments_lexer": "ipython3",
   "version": "3.11.7"
  }
 },
 "nbformat": 4,
 "nbformat_minor": 2
}
