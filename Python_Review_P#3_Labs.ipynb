{
 "cells": [
  {
   "cell_type": "markdown",
   "id": "2d4a0e4d",
   "metadata": {},
   "source": [
    "Lab1-Lists\n",
    "\n",
    "Given the following list : [5, 4, 17, 19, 30, 2, 7, 10, 45]\n",
    "\n",
    "Q1: Write a Python program to sum all the items in the list.\n",
    "\n",
    "Q2: Write a Python program to get the largest number from the list.\n",
    "\n",
    "Q3: Use list comprehension, create a new list from the above list containing only even numbers.\n",
    "\n",
    "Q4: Use list slicing to get a new list from the previous list starting from the start to the 5th element in the list."
   ]
  },
  {
   "cell_type": "code",
   "execution_count": 1,
   "id": "83abad93",
   "metadata": {},
   "outputs": [
    {
     "name": "stdout",
     "output_type": "stream",
     "text": [
      "The sum of the numbers is: 139\n",
      "The largest number is: 45\n",
      "The even numbers are: [4, 30, 2, 10]\n",
      "The sliced list is: [5, 4, 17, 19, 30]\n"
     ]
    }
   ],
   "source": [
    "numbers = [5, 4, 17, 19, 30, 2, 7, 10, 45]\n",
    "total = sum(numbers)\n",
    "max_number = max(numbers)\n",
    "even_numbers = [num for num in numbers if num % 2 == 0]\n",
    "sliced_list = numbers[:5]\n",
    "\n",
    "\n",
    "print(\"The sum of the numbers is:\", total)\n",
    "print(\"The largest number is:\", max_number)\n",
    "print(\"The even numbers are:\", even_numbers)\n",
    "print(\"The sliced list is:\", sliced_list)"
   ]
  },
  {
   "cell_type": "markdown",
   "id": "4e9500a7",
   "metadata": {},
   "source": [
    "Lab2-Dictionary\n",
    "\n",
    "Build a phone book program that receives the phone number, and returns the name of the owner. \n",
    "You can follow the table below:\n",
    "\n",
    "Name\tNumber\n",
    "Amal\t1111111111\n",
    "\n",
    "Mohammed\t2222222222\n",
    "\n",
    "Khadijah\t3333333333\n",
    "\n",
    "Abdullah\t4444444444\n",
    "\n",
    "Rawan\t5555555555\n",
    "\n",
    "Faisal\t6666666666\n",
    "\n",
    "Layla\t7777777777\n",
    "\n",
    "If the number exists, print the owner. Otherwise, print \"Sorry, the number is not found\".\n",
    "\n",
    "If the number is less or more than 10 numbers, print \"This is invalid number\".\n",
    "\n",
    "If the number contains letters or symbols, print \"This is invalid number\"."
   ]
  },
  {
   "cell_type": "code",
   "execution_count": 2,
   "id": "4059b726",
   "metadata": {},
   "outputs": [
    {
     "name": "stdout",
     "output_type": "stream",
     "text": [
      "The owner is Khalid\n"
     ]
    }
   ],
   "source": [
    "# Define the phone book as a dictionary\n",
    "phone_book = {\n",
    "    \"Amal\": \"1111111111\",\n",
    "    \"Mohammed\": \"2222222222\",\n",
    "    \"Khadijah\": \"3333333333\",\n",
    "    \"Abdullah\": \"4444444444\",\n",
    "    \"Rawan\": \"5555555555\",\n",
    "    \"Faisal\": \"6666666666\",\n",
    "    \"Layla\": \"7777777777\",\n",
    "    \"Khalid\": \"0567176037\"\n",
    "}\n",
    "\n",
    "phone_number = input(\"Enter the phone number: \")\n",
    "\n",
    "if not phone_number.isdigit() or len(phone_number)!= 10:\n",
    "    print(\"This is an invalid number\")\n",
    "else:\n",
    "    if phone_number in phone_book.values():\n",
    "        for name, number in phone_book.items():\n",
    "            if number == phone_number:\n",
    "                print(f\"The owner is {name}\")\n",
    "                break\n",
    "    else:\n",
    "        print(\"Sorry, the number is not found\")"
   ]
  }
 ],
 "metadata": {
  "kernelspec": {
   "display_name": "Python 3 (ipykernel)",
   "language": "python",
   "name": "python3"
  },
  "language_info": {
   "codemirror_mode": {
    "name": "ipython",
    "version": 3
   },
   "file_extension": ".py",
   "mimetype": "text/x-python",
   "name": "python",
   "nbconvert_exporter": "python",
   "pygments_lexer": "ipython3",
   "version": "3.11.7"
  }
 },
 "nbformat": 4,
 "nbformat_minor": 5
}
